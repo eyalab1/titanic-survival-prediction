{
 "cells": [
  {
   "cell_type": "markdown",
   "id": "ec202ada",
   "metadata": {},
   "source": [
    "# Assignment - Supervised Learning flow"
   ]
  },
  {
   "cell_type": "markdown",
   "id": "b06a2810",
   "metadata": {},
   "source": [
    "# Part 1(a) Student details:\n",
    "* Please write the First-Name, First letter of Last-Name and last 4 digits of the i.d. for each student. "
   ]
  },
  {
   "cell_type": "markdown",
   "id": "793f0975-de3b-4997-bf5e-cf5439e4d08f",
   "metadata": {},
   "source": [
    "student details 1:Eyal A 1559\n"
   ]
  },
  {
   "cell_type": "markdown",
   "id": "abb64166-b32e-4b86-a7ee-84106c8b3a92",
   "metadata": {},
   "source": [
    "## Part 1(b) - Chat-GPT/other AI-agent/other assistance used:\n",
    "* If you changed the prompt until you got a satisfying answer, please add all versions\n",
    "* don't delete \"pre\" tags, so new-line is supported\n",
    "* double click the following markdown cell to change\n",
    "* press shift+enter to view\n",
    "* Add information:"
   ]
  },
  {
   "cell_type": "markdown",
   "id": "ea93f0d3-7aa1-4a95-b084-395f5f7c6c0c",
   "metadata": {
    "jp-MarkdownHeadingCollapsed": true
   },
   "source": [
    "#### Add information in this Markdown cell (double click to change, shift-enter to view)\n",
    "<pre>   \n",
    "AI agent name:\n",
    "Goal:\n",
    "Propmpt1:\n",
    "    \n",
    "Propmpt2:\n",
    "    \n",
    "Propmpt3: \n",
    "\n",
    "\n",
    "AI agent name 2:\n",
    "Goal:\n",
    "Propmpt1:\n",
    "    \n",
    "Propmpt2:\n",
    "    \n",
    "Propmpt3: \n",
    "\n",
    "Other assistanse:    \n",
    "</pre>"
   ]
  },
  {
   "cell_type": "markdown",
   "id": "0e4fbaab-e5a5-40ed-be0f-9a2cb7931a4b",
   "metadata": {},
   "source": [
    "## Part 1(c) - Learning Problem and dataset explaination.\n",
    "* Please explain in one paragraph\n",
    "* don't delete \"pre\" tags, so new-line is supported\n",
    "* double click the following markdown cell to change\n",
    "* press shift+enter to view\n",
    "* Add explaining text:"
   ]
  },
  {
   "cell_type": "markdown",
   "id": "dd8565df-2778-4b89-83bd-6b227063789f",
   "metadata": {},
   "source": [
    "#### Add information in this Markdown cell (double click to change, shift-enter to view)\n",
    "<pre>\n",
    "The goal of this project is to predict the survival of passengers aboard the Titanic based on their demographic and travel information. This is a supervised, binary classification problem, where the objective is to predict one of two possible outcomes: 'Survived' (1) or 'Did not survive' (0). The dataset contains records of passengers, where each row represents a single individual. Key features include the passenger's class (Pclass), sex, age, and the fare they paid. The target variable we aim to predict is the 'Survived' column. A key challenge in this dataset is handling missing values, particularly in the 'Age' feature, which requires preprocessing before training a model.\n",
    "\n",
    "\n",
    "\n",
    "    \n",
    "</pre>"
   ]
  },
  {
   "cell_type": "markdown",
   "id": "df67c2ee-87c8-499c-a04f-1853c332f51d",
   "metadata": {},
   "source": [
    "## Part 2 - Initial Preparations \n",
    "You could add as many code cells as needed"
   ]
  },
  {
   "cell_type": "code",
   "execution_count": 9,
   "id": "b29b3454-b568-4614-8017-f15b3c59fc55",
   "metadata": {},
   "outputs": [
    {
     "name": "stdout",
     "output_type": "stream",
     "text": [
      "Libraries imported successfully!\n"
     ]
    }
   ],
   "source": [
    "# Import necessary libraries\n",
    "import pandas as pd # For data loading and manipulation\n",
    "import seaborn as sns # For creating beautiful visualizations\n",
    "import matplotlib.pyplot as plt # For customizing plots\n",
    "\n",
    "# Set a consistent style for the plots\n",
    "sns.set_style('whitegrid')\n",
    "\n",
    "print(\"Libraries imported successfully!\")"
   ]
  },
  {
   "cell_type": "code",
   "execution_count": 10,
   "id": "4b47fe56-d611-4b28-be92-673db4d56400",
   "metadata": {},
   "outputs": [
    {
     "name": "stdout",
     "output_type": "stream",
     "text": [
      "Training Data Head:\n"
     ]
    },
    {
     "data": {
      "text/html": [
       "<div>\n",
       "<style scoped>\n",
       "    .dataframe tbody tr th:only-of-type {\n",
       "        vertical-align: middle;\n",
       "    }\n",
       "\n",
       "    .dataframe tbody tr th {\n",
       "        vertical-align: top;\n",
       "    }\n",
       "\n",
       "    .dataframe thead th {\n",
       "        text-align: right;\n",
       "    }\n",
       "</style>\n",
       "<table border=\"1\" class=\"dataframe\">\n",
       "  <thead>\n",
       "    <tr style=\"text-align: right;\">\n",
       "      <th></th>\n",
       "      <th>Pclass</th>\n",
       "      <th>Sex</th>\n",
       "      <th>Age</th>\n",
       "      <th>SibSp</th>\n",
       "      <th>Parch</th>\n",
       "      <th>Fare</th>\n",
       "      <th>Embarked</th>\n",
       "      <th>Survived</th>\n",
       "    </tr>\n",
       "  </thead>\n",
       "  <tbody>\n",
       "    <tr>\n",
       "      <th>0</th>\n",
       "      <td>1</td>\n",
       "      <td>0</td>\n",
       "      <td>54.0</td>\n",
       "      <td>1</td>\n",
       "      <td>0</td>\n",
       "      <td>78.2667</td>\n",
       "      <td>1</td>\n",
       "      <td>1</td>\n",
       "    </tr>\n",
       "    <tr>\n",
       "      <th>1</th>\n",
       "      <td>2</td>\n",
       "      <td>0</td>\n",
       "      <td>45.0</td>\n",
       "      <td>0</td>\n",
       "      <td>0</td>\n",
       "      <td>13.5000</td>\n",
       "      <td>0</td>\n",
       "      <td>1</td>\n",
       "    </tr>\n",
       "    <tr>\n",
       "      <th>2</th>\n",
       "      <td>3</td>\n",
       "      <td>1</td>\n",
       "      <td>20.0</td>\n",
       "      <td>0</td>\n",
       "      <td>0</td>\n",
       "      <td>9.5000</td>\n",
       "      <td>0</td>\n",
       "      <td>0</td>\n",
       "    </tr>\n",
       "    <tr>\n",
       "      <th>3</th>\n",
       "      <td>3</td>\n",
       "      <td>1</td>\n",
       "      <td>36.0</td>\n",
       "      <td>0</td>\n",
       "      <td>0</td>\n",
       "      <td>7.8958</td>\n",
       "      <td>0</td>\n",
       "      <td>0</td>\n",
       "    </tr>\n",
       "    <tr>\n",
       "      <th>4</th>\n",
       "      <td>3</td>\n",
       "      <td>1</td>\n",
       "      <td>22.0</td>\n",
       "      <td>0</td>\n",
       "      <td>0</td>\n",
       "      <td>8.0500</td>\n",
       "      <td>0</td>\n",
       "      <td>0</td>\n",
       "    </tr>\n",
       "  </tbody>\n",
       "</table>\n",
       "</div>"
      ],
      "text/plain": [
       "   Pclass  Sex   Age  SibSp  Parch     Fare  Embarked  Survived\n",
       "0       1    0  54.0      1      0  78.2667         1         1\n",
       "1       2    0  45.0      0      0  13.5000         0         1\n",
       "2       3    1  20.0      0      0   9.5000         0         0\n",
       "3       3    1  36.0      0      0   7.8958         0         0\n",
       "4       3    1  22.0      0      0   8.0500         0         0"
      ]
     },
     "metadata": {},
     "output_type": "display_data"
    },
    {
     "name": "stdout",
     "output_type": "stream",
     "text": [
      "\n",
      "==================================================\n",
      "\n",
      "Test Data Head:\n"
     ]
    },
    {
     "data": {
      "text/html": [
       "<div>\n",
       "<style scoped>\n",
       "    .dataframe tbody tr th:only-of-type {\n",
       "        vertical-align: middle;\n",
       "    }\n",
       "\n",
       "    .dataframe tbody tr th {\n",
       "        vertical-align: top;\n",
       "    }\n",
       "\n",
       "    .dataframe thead th {\n",
       "        text-align: right;\n",
       "    }\n",
       "</style>\n",
       "<table border=\"1\" class=\"dataframe\">\n",
       "  <thead>\n",
       "    <tr style=\"text-align: right;\">\n",
       "      <th></th>\n",
       "      <th>Pclass</th>\n",
       "      <th>Sex</th>\n",
       "      <th>Age</th>\n",
       "      <th>SibSp</th>\n",
       "      <th>Parch</th>\n",
       "      <th>Fare</th>\n",
       "      <th>Embarked</th>\n",
       "      <th>Survived</th>\n",
       "    </tr>\n",
       "  </thead>\n",
       "  <tbody>\n",
       "    <tr>\n",
       "      <th>0</th>\n",
       "      <td>3</td>\n",
       "      <td>1</td>\n",
       "      <td>35.000000</td>\n",
       "      <td>0</td>\n",
       "      <td>0</td>\n",
       "      <td>7.0500</td>\n",
       "      <td>0</td>\n",
       "      <td>0</td>\n",
       "    </tr>\n",
       "    <tr>\n",
       "      <th>1</th>\n",
       "      <td>3</td>\n",
       "      <td>1</td>\n",
       "      <td>30.000000</td>\n",
       "      <td>0</td>\n",
       "      <td>0</td>\n",
       "      <td>7.2500</td>\n",
       "      <td>0</td>\n",
       "      <td>0</td>\n",
       "    </tr>\n",
       "    <tr>\n",
       "      <th>2</th>\n",
       "      <td>3</td>\n",
       "      <td>1</td>\n",
       "      <td>29.699118</td>\n",
       "      <td>0</td>\n",
       "      <td>0</td>\n",
       "      <td>14.5000</td>\n",
       "      <td>0</td>\n",
       "      <td>0</td>\n",
       "    </tr>\n",
       "    <tr>\n",
       "      <th>3</th>\n",
       "      <td>3</td>\n",
       "      <td>0</td>\n",
       "      <td>21.000000</td>\n",
       "      <td>0</td>\n",
       "      <td>0</td>\n",
       "      <td>7.7500</td>\n",
       "      <td>2</td>\n",
       "      <td>0</td>\n",
       "    </tr>\n",
       "    <tr>\n",
       "      <th>4</th>\n",
       "      <td>3</td>\n",
       "      <td>1</td>\n",
       "      <td>32.000000</td>\n",
       "      <td>0</td>\n",
       "      <td>0</td>\n",
       "      <td>56.4958</td>\n",
       "      <td>0</td>\n",
       "      <td>1</td>\n",
       "    </tr>\n",
       "  </tbody>\n",
       "</table>\n",
       "</div>"
      ],
      "text/plain": [
       "   Pclass  Sex        Age  SibSp  Parch     Fare  Embarked  Survived\n",
       "0       3    1  35.000000      0      0   7.0500         0         0\n",
       "1       3    1  30.000000      0      0   7.2500         0         0\n",
       "2       3    1  29.699118      0      0  14.5000         0         0\n",
       "3       3    0  21.000000      0      0   7.7500         2         0\n",
       "4       3    1  32.000000      0      0  56.4958         0         1"
      ]
     },
     "metadata": {},
     "output_type": "display_data"
    }
   ],
   "source": [
    "# Load the training and testing datasets\n",
    "train_df = pd.read_csv('titanic_train.csv')\n",
    "test_df = pd.read_csv('titanic_test.csv')\n",
    "\n",
    "# Display the first 5 rows of the training dataset\n",
    "print(\"Training Data Head:\")\n",
    "display(train_df.head())\n",
    "\n",
    "print(\"\\n\" + \"=\"*50 + \"\\n\") # Separator\n",
    "\n",
    "# Display the first 5 rows of the testing dataset\n",
    "print(\"Test Data Head:\")\n",
    "display(test_df.head())"
   ]
  },
  {
   "cell_type": "markdown",
   "id": "757fa273-b46d-486f-b45f-dc8d6920fd34",
   "metadata": {},
   "source": [
    "### Visualization 1: Survival by Gender (Sex)\n",
    "**Goal of this visualization:** To analyze the relationship between a passenger's gender and their likelihood of survival. This plot helps us understand if `Sex` is an important predictive feature."
   ]
  },
  {
   "cell_type": "code",
   "execution_count": 12,
   "id": "8ed719b4-3db0-4cc5-8b5c-87f261535643",
   "metadata": {},
   "outputs": [
    {
     "data": {
      "image/png": "[encoded data removed]",
      "text/plain": [
       "<Figure size 800x600 with 1 Axes>"
      ]
     },
     "metadata": {},
     "output_type": "display_data"
    }
   ],
   "source": [
    "# Create a count plot showing survival counts for each gender\n",
    "plt.figure(figsize=(8, 6))\n",
    "sns.countplot(x='Sex', hue='Survived', data=train_df, palette='plasma')\n",
    "\n",
    "# Add titles and labels for clarity\n",
    "plt.title('Survival Count by Gender', fontsize=14)\n",
    "plt.xlabel('Gender', fontsize=12)\n",
    "plt.ylabel('Number of Passengers', fontsize=12)\n",
    "plt.xticks([0, 1], ['Female', 'Male'])\n",
    "plt.legend(title='Survived', labels=['Died', 'Survived'])\n",
    "\n",
    "# Show the plot\n",
    "plt.show()"
   ]
  },
  {
   "cell_type": "markdown",
   "id": "aca64cee-5ffc-4d37-85ec-412561b234c7",
   "metadata": {},
   "source": [
    "**Observation**: The chart clearly shows a dramatic difference in survival rates between genders. A significantly higher number of females survived than died, while the vast majority of males did not survive. This confirms that Sex is a very strong predictor for the survival outcome."
   ]
  },
  {
   "cell_type": "markdown",
   "id": "138b8bdd-c3c9-46ac-a76f-c3b0ed45f8e3",
   "metadata": {},
   "source": [
    "### Visualization 2: Survival by Passenger Class (Pclass)\n",
    "**Goal of this visualization:** To investigate how socio-economic status, represented by passenger class (`Pclass`), affected survival rates."
   ]
  },
  {
   "cell_type": "code",
   "execution_count": 15,
   "id": "4c25883a-91a4-4277-a54f-0601f2991d3c",
   "metadata": {},
   "outputs": [
    {
     "data": {
      "image/png": "[encoded data removed]",
      "text/plain": [
       "<Figure size 1000x600 with 1 Axes>"
      ]
     },
     "metadata": {},
     "output_type": "display_data"
    }
   ],
   "source": [
    "# Create a count plot showing survival counts for each passenger class\n",
    "plt.figure(figsize=(10, 6))\n",
    "sns.countplot(x='Pclass', hue='Survived', data=train_df, palette='magma')\n",
    "\n",
    "# Add titles and labels\n",
    "plt.title('Survival Count by Passenger Class', fontsize=14)\n",
    "plt.xlabel('Passenger Class', fontsize=12)\n",
    "plt.ylabel('Number of Passengers', fontsize=12)\n",
    "plt.legend(title='Survived', labels=['Died', 'Survived'])\n",
    "\n",
    "\n",
    "\n",
    "plt.show()"
   ]
  },
  {
   "cell_type": "markdown",
   "id": "b5217bd9-b460-4147-9da2-6714e9774b64",
   "metadata": {},
   "source": [
    "**Observation:** The chart reveals a clear trend related to socio-economic status. First-class passengers had a significantly higher survival rate, with more surviving than dying. Conversely, third-class passengers had a very low survival rate, with the vast majority not surviving. This indicates that `Pclass` is another critical feature for predicting survival."
   ]
  },
  {
   "cell_type": "markdown",
   "id": "fb36672a",
   "metadata": {},
   "source": [
    "## Part 3 - Experiments\n",
    "You could add as many code cells as needed"
   ]
  },
  {
   "cell_type": "code",
   "execution_count": 18,
   "id": "60520e49-48e1-4292-a7c7-043fc2b04bb3",
   "metadata": {},
   "outputs": [
    {
     "name": "stdout",
     "output_type": "stream",
     "text": [
      "Columns dropped successfully.\n",
      "Missing values for 'Age' and 'Fare' have been filled.\n",
      "\n",
      "Preprocessing is complete. The data is now ready.\n"
     ]
    },
    {
     "data": {
      "text/html": [
       "<div>\n",
       "<style scoped>\n",
       "    .dataframe tbody tr th:only-of-type {\n",
       "        vertical-align: middle;\n",
       "    }\n",
       "\n",
       "    .dataframe tbody tr th {\n",
       "        vertical-align: top;\n",
       "    }\n",
       "\n",
       "    .dataframe thead th {\n",
       "        text-align: right;\n",
       "    }\n",
       "</style>\n",
       "<table border=\"1\" class=\"dataframe\">\n",
       "  <thead>\n",
       "    <tr style=\"text-align: right;\">\n",
       "      <th></th>\n",
       "      <th>Pclass</th>\n",
       "      <th>Sex</th>\n",
       "      <th>Age</th>\n",
       "      <th>SibSp</th>\n",
       "      <th>Parch</th>\n",
       "      <th>Fare</th>\n",
       "      <th>Embarked</th>\n",
       "      <th>Survived</th>\n",
       "    </tr>\n",
       "  </thead>\n",
       "  <tbody>\n",
       "    <tr>\n",
       "      <th>0</th>\n",
       "      <td>1</td>\n",
       "      <td>0</td>\n",
       "      <td>54.0</td>\n",
       "      <td>1</td>\n",
       "      <td>0</td>\n",
       "      <td>78.2667</td>\n",
       "      <td>1</td>\n",
       "      <td>1</td>\n",
       "    </tr>\n",
       "    <tr>\n",
       "      <th>1</th>\n",
       "      <td>2</td>\n",
       "      <td>0</td>\n",
       "      <td>45.0</td>\n",
       "      <td>0</td>\n",
       "      <td>0</td>\n",
       "      <td>13.5000</td>\n",
       "      <td>0</td>\n",
       "      <td>1</td>\n",
       "    </tr>\n",
       "    <tr>\n",
       "      <th>2</th>\n",
       "      <td>3</td>\n",
       "      <td>1</td>\n",
       "      <td>20.0</td>\n",
       "      <td>0</td>\n",
       "      <td>0</td>\n",
       "      <td>9.5000</td>\n",
       "      <td>0</td>\n",
       "      <td>0</td>\n",
       "    </tr>\n",
       "    <tr>\n",
       "      <th>3</th>\n",
       "      <td>3</td>\n",
       "      <td>1</td>\n",
       "      <td>36.0</td>\n",
       "      <td>0</td>\n",
       "      <td>0</td>\n",
       "      <td>7.8958</td>\n",
       "      <td>0</td>\n",
       "      <td>0</td>\n",
       "    </tr>\n",
       "    <tr>\n",
       "      <th>4</th>\n",
       "      <td>3</td>\n",
       "      <td>1</td>\n",
       "      <td>22.0</td>\n",
       "      <td>0</td>\n",
       "      <td>0</td>\n",
       "      <td>8.0500</td>\n",
       "      <td>0</td>\n",
       "      <td>0</td>\n",
       "    </tr>\n",
       "  </tbody>\n",
       "</table>\n",
       "</div>"
      ],
      "text/plain": [
       "   Pclass  Sex   Age  SibSp  Parch     Fare  Embarked  Survived\n",
       "0       1    0  54.0      1      0  78.2667         1         1\n",
       "1       2    0  45.0      0      0  13.5000         0         1\n",
       "2       3    1  20.0      0      0   9.5000         0         0\n",
       "3       3    1  36.0      0      0   7.8958         0         0\n",
       "4       3    1  22.0      0      0   8.0500         0         0"
      ]
     },
     "metadata": {},
     "output_type": "display_data"
    },
    {
     "name": "stdout",
     "output_type": "stream",
     "text": [
      "\n",
      "Verifying no missing values left in the training data:\n",
      "0\n"
     ]
    }
   ],
   "source": [
    "import pandas as pd\n",
    "\n",
    "# --- Step 1: Create Copies and Drop Unnecessary Columns ---\n",
    "processed_train_df = train_df.copy()\n",
    "processed_test_df = test_df.copy()\n",
    "\n",
    "# Drop columns that are not useful for the model\n",
    "columns_to_drop = ['PassengerId', 'Name', 'Ticket', 'Cabin'] \n",
    "for col in columns_to_drop:\n",
    "    if col in processed_train_df.columns:\n",
    "        processed_train_df = processed_train_df.drop(columns=[col])\n",
    "    if col in processed_test_df.columns:\n",
    "        processed_test_df = processed_test_df.drop(columns=[col])\n",
    "print(\"Columns dropped successfully.\")\n",
    "\n",
    "\n",
    "# --- Step 2: Fill Missing Values ---\n",
    "# The 'Sex' and 'Embarked' columns are already numeric in your files, so we don't need to convert them.\n",
    "# We only need to fill missing values for 'Age' and 'Fare'.\n",
    "for col in ['Age', 'Fare']:\n",
    "    # Calculate median from the TRAIN set only\n",
    "    median_val = processed_train_df[col].median()\n",
    "    # Fill missing values in both train and test sets\n",
    "    processed_train_df[col] = processed_train_df[col].fillna(median_val)\n",
    "    processed_test_df[col] = processed_test_df[col].fillna(median_val)\n",
    "print(\"Missing values for 'Age' and 'Fare' have been filled.\")\n",
    "\n",
    "\n",
    "# --- Final Verification ---\n",
    "print(\"\\nPreprocessing is complete. The data is now ready.\")\n",
    "display(processed_train_df.head())\n",
    "print(\"\\nVerifying no missing values left in the training data:\")\n",
    "# This should print 0\n",
    "print(processed_train_df.isnull().sum().sum())"
   ]
  },
  {
   "cell_type": "code",
   "execution_count": 19,
   "id": "097afb02",
   "metadata": {},
   "outputs": [
    {
     "name": "stdout",
     "output_type": "stream",
     "text": [
      "Data is ready for modeling.\n",
      "X_train shape: (712, 7)\n",
      "X_test shape: (179, 7)\n"
     ]
    }
   ],
   "source": [
    "# Import all necessary tools for modeling\n",
    "from sklearn.tree import DecisionTreeClassifier\n",
    "from sklearn.model_selection import GridSearchCV\n",
    "from sklearn.metrics import f1_score, classification_report\n",
    "from sklearn.preprocessing import StandardScaler\n",
    "from sklearn.pipeline import Pipeline\n",
    "\n",
    "# --- Prepare the training data ---\n",
    "X_train = processed_train_df.drop('Survived', axis=1) \n",
    "y_train = processed_train_df['Survived']\n",
    "\n",
    "# --- Prepare the test data ---\n",
    "X_test = processed_test_df.copy()\n",
    "\n",
    "# Align columns - this is a critical step!\n",
    "train_cols = X_train.columns\n",
    "test_cols = X_test.columns\n",
    "\n",
    "# Add missing columns to the test set (if any) and fill with 0\n",
    "missing_in_test = set(train_cols) - set(test_cols)\n",
    "for c in missing_in_test:\n",
    "    X_test[c] = 0\n",
    "\n",
    "# Ensure the order of columns is identical\n",
    "X_test = X_test[train_cols]\n",
    "\n",
    "# Load the true labels for the test set from the original file for final evaluation\n",
    "y_test = pd.read_csv('titanic_test.csv')['Survived']\n",
    "\n",
    "print(\"Data is ready for modeling.\")\n",
    "print(\"X_train shape:\", X_train.shape)\n",
    "print(\"X_test shape:\", X_test.shape)"
   ]
  },
  {
   "cell_type": "code",
   "execution_count": 45,
   "id": "1fa9ec73",
   "metadata": {},
   "outputs": [
    {
     "name": "stdout",
     "output_type": "stream",
     "text": [
      "--- Running Grid Search for configuration: No Scaling ---\n",
      "--- Running Grid Search for configuration: StandardScaler ---\n",
      "\n",
      "--- All Permutations and their Average F1-Scores ---\n"
     ]
    },
    {
     "data": {
      "text/html": [
       "<div>\n",
       "<style scoped>\n",
       "    .dataframe tbody tr th:only-of-type {\n",
       "        vertical-align: middle;\n",
       "    }\n",
       "\n",
       "    .dataframe tbody tr th {\n",
       "        vertical-align: top;\n",
       "    }\n",
       "\n",
       "    .dataframe thead th {\n",
       "        text-align: right;\n",
       "    }\n",
       "</style>\n",
       "<table border=\"1\" class=\"dataframe\">\n",
       "  <thead>\n",
       "    <tr style=\"text-align: right;\">\n",
       "      <th></th>\n",
       "      <th>preprocessor</th>\n",
       "      <th>Hyperparameters</th>\n",
       "      <th>Mean F1-Score (CV)</th>\n",
       "      <th>Std Dev of F1-Score</th>\n",
       "      <th>Rank</th>\n",
       "    </tr>\n",
       "  </thead>\n",
       "  <tbody>\n",
       "    <tr>\n",
       "      <th>0</th>\n",
       "      <td>No Scaling</td>\n",
       "      <td>{'classifier__max_depth': 3, 'classifier__min_...</td>\n",
       "      <td>0.737955</td>\n",
       "      <td>0.025810</td>\n",
       "      <td>1</td>\n",
       "    </tr>\n",
       "    <tr>\n",
       "      <th>4</th>\n",
       "      <td>StandardScaler</td>\n",
       "      <td>{'classifier__max_depth': 3, 'classifier__min_...</td>\n",
       "      <td>0.737955</td>\n",
       "      <td>0.025810</td>\n",
       "      <td>1</td>\n",
       "    </tr>\n",
       "    <tr>\n",
       "      <th>1</th>\n",
       "      <td>No Scaling</td>\n",
       "      <td>{'classifier__max_depth': 3, 'classifier__min_...</td>\n",
       "      <td>0.735165</td>\n",
       "      <td>0.027692</td>\n",
       "      <td>2</td>\n",
       "    </tr>\n",
       "    <tr>\n",
       "      <th>5</th>\n",
       "      <td>StandardScaler</td>\n",
       "      <td>{'classifier__max_depth': 3, 'classifier__min_...</td>\n",
       "      <td>0.735165</td>\n",
       "      <td>0.027692</td>\n",
       "      <td>2</td>\n",
       "    </tr>\n",
       "    <tr>\n",
       "      <th>2</th>\n",
       "      <td>No Scaling</td>\n",
       "      <td>{'classifier__max_depth': 5, 'classifier__min_...</td>\n",
       "      <td>0.720869</td>\n",
       "      <td>0.013017</td>\n",
       "      <td>3</td>\n",
       "    </tr>\n",
       "    <tr>\n",
       "      <th>6</th>\n",
       "      <td>StandardScaler</td>\n",
       "      <td>{'classifier__max_depth': 5, 'classifier__min_...</td>\n",
       "      <td>0.720869</td>\n",
       "      <td>0.013017</td>\n",
       "      <td>3</td>\n",
       "    </tr>\n",
       "    <tr>\n",
       "      <th>3</th>\n",
       "      <td>No Scaling</td>\n",
       "      <td>{'classifier__max_depth': 5, 'classifier__min_...</td>\n",
       "      <td>0.717690</td>\n",
       "      <td>0.037159</td>\n",
       "      <td>4</td>\n",
       "    </tr>\n",
       "    <tr>\n",
       "      <th>7</th>\n",
       "      <td>StandardScaler</td>\n",
       "      <td>{'classifier__max_depth': 5, 'classifier__min_...</td>\n",
       "      <td>0.717690</td>\n",
       "      <td>0.037159</td>\n",
       "      <td>4</td>\n",
       "    </tr>\n",
       "  </tbody>\n",
       "</table>\n",
       "</div>"
      ],
      "text/plain": [
       "     preprocessor                                    Hyperparameters  \\\n",
       "0      No Scaling  {'classifier__max_depth': 3, 'classifier__min_...   \n",
       "4  StandardScaler  {'classifier__max_depth': 3, 'classifier__min_...   \n",
       "1      No Scaling  {'classifier__max_depth': 3, 'classifier__min_...   \n",
       "5  StandardScaler  {'classifier__max_depth': 3, 'classifier__min_...   \n",
       "2      No Scaling  {'classifier__max_depth': 5, 'classifier__min_...   \n",
       "6  StandardScaler  {'classifier__max_depth': 5, 'classifier__min_...   \n",
       "3      No Scaling  {'classifier__max_depth': 5, 'classifier__min_...   \n",
       "7  StandardScaler  {'classifier__max_depth': 5, 'classifier__min_...   \n",
       "\n",
       "   Mean F1-Score (CV)  Std Dev of F1-Score  Rank  \n",
       "0            0.737955             0.025810     1  \n",
       "4            0.737955             0.025810     1  \n",
       "1            0.735165             0.027692     2  \n",
       "5            0.735165             0.027692     2  \n",
       "2            0.720869             0.013017     3  \n",
       "6            0.720869             0.013017     3  \n",
       "3            0.717690             0.037159     4  \n",
       "7            0.717690             0.037159     4  "
      ]
     },
     "metadata": {},
     "output_type": "display_data"
    },
    {
     "name": "stdout",
     "output_type": "stream",
     "text": [
      "\n",
      "--- Best Permutation Found ---\n",
      "Preprocessor: No Scaling\n",
      "Hyperparameters: {'classifier__max_depth': 3, 'classifier__min_samples_leaf': 5}\n",
      "Average F1-Score on Cross-Validation: 0.7380\n"
     ]
    }
   ],
   "source": [
    "# 1. Define the algorithm to test\n",
    "model = DecisionTreeClassifier(random_state=42)\n",
    "\n",
    "# 2. Define the feature engineering options (preprocessors)\n",
    "# Option A: No scaling, Option B: StandardScaler\n",
    "preprocessors = [\n",
    "    ('No Scaling', None),\n",
    "    ('StandardScaler', StandardScaler())\n",
    "]\n",
    "\n",
    "# 3. Define the hyperparameter grid to search\n",
    "# As a single submitter: 1 algorithm, 2 hyperparameters, 2+ values each\n",
    "param_grid = {\n",
    "    'max_depth': [3, 5],           # Test two different values for max tree depth\n",
    "    'min_samples_leaf': [5, 10]    # Test two different values for min samples in a leaf\n",
    "}\n",
    "\n",
    "# --- Loop through experiments and run GridSearchCV ---\n",
    "all_results = []\n",
    "best_estimator = None\n",
    "best_cv_score = -1\n",
    "\n",
    "for preprocessor_name, preprocessor in preprocessors:\n",
    "    \n",
    "    # Create a pipeline to chain the preprocessor and the model\n",
    "    if preprocessor:\n",
    "        pipeline = Pipeline([('preprocessor', preprocessor), ('classifier', model)])\n",
    "        # Adjust param_grid keys for the pipeline syntax\n",
    "        current_param_grid = {f'classifier__{key}': value for key, value in param_grid.items()}\n",
    "    else:\n",
    "        pipeline = Pipeline([('classifier', model)])\n",
    "        current_param_grid = {f'classifier__{key}': value for key, value in param_grid.items()}\n",
    "\n",
    "    print(f\"--- Running Grid Search for configuration: {preprocessor_name} ---\")\n",
    "    grid_search = GridSearchCV(estimator=pipeline, \n",
    "                               param_grid=current_param_grid, \n",
    "                               cv=5,                # 5-fold cross-validation\n",
    "                               scoring='f1',        # The metric to optimize (for class 1)\n",
    "                               n_jobs=-1)           # Use all available CPU cores\n",
    "    grid_search.fit(X_train, y_train)\n",
    "\n",
    "    # Store the results in a structured way\n",
    "    results_df = pd.DataFrame(grid_search.cv_results_)\n",
    "    results_df['preprocessor'] = preprocessor_name\n",
    "    all_results.append(results_df)\n",
    "\n",
    "    # Keep track of the best model found across all experiments\n",
    "    if grid_search.best_score_ > best_cv_score:\n",
    "        best_cv_score = grid_search.best_score_\n",
    "        best_estimator = grid_search.best_estimator_\n",
    "\n",
    "# --- Display all results in a single DataFrame as required ---\n",
    "final_results_df = pd.concat(all_results, ignore_index=True)\n",
    "\n",
    "# Select and rename columns for a clear presentation\n",
    "columns_to_show = ['preprocessor', 'params', 'mean_test_score', 'std_test_score', 'rank_test_score']\n",
    "final_results_df_display = final_results_df[columns_to_show].rename(\n",
    "    columns={\n",
    "        'mean_test_score': 'Mean F1-Score (CV)',\n",
    "        'std_test_score': 'Std Dev of F1-Score',\n",
    "        'rank_test_score': 'Rank',\n",
    "        'params': 'Hyperparameters'\n",
    "    }\n",
    ").sort_values(by='Rank')\n",
    "\n",
    "print(\"\\n--- All Permutations and their Average F1-Scores ---\")\n",
    "display(final_results_df_display)\n",
    "\n",
    "# --- Identify and print the best permutation ---\n",
    "best_permutation = final_results_df_display.iloc[0]\n",
    "print(\"\\n--- Best Permutation Found ---\")\n",
    "print(f\"Preprocessor: {best_permutation['preprocessor']}\")\n",
    "print(f\"Hyperparameters: {best_permutation['Hyperparameters']}\")\n",
    "print(f\"Average F1-Score on Cross-Validation: {best_permutation['Mean F1-Score (CV)']:.4f}\")"
   ]
  },
  {
   "cell_type": "code",
   "execution_count": 47,
   "id": "937b653d",
   "metadata": {
    "scrolled": true
   },
   "outputs": [],
   "source": []
  },
  {
   "cell_type": "code",
   "execution_count": null,
   "id": "678dbf8c-ff53-4b82-80aa-c47c700daab9",
   "metadata": {},
   "outputs": [],
   "source": []
  },
  {
   "cell_type": "code",
   "execution_count": null,
   "id": "cd1151d0-0b4b-441d-965a-77cca0dd894f",
   "metadata": {},
   "outputs": [],
   "source": []
  },
  {
   "cell_type": "code",
   "execution_count": null,
   "id": "b8cf9ff9-e406-4c4a-8330-f1f58645c485",
   "metadata": {},
   "outputs": [],
   "source": []
  },
  {
   "cell_type": "markdown",
   "id": "67d97f11",
   "metadata": {},
   "source": [
    "## Part 4 - Training \n",
    "Use the best combination of feature engineering, model (algorithm and hyperparameters) from the experiment part (part 3)"
   ]
  },
  {
   "cell_type": "markdown",
   "id": "cbae5349-af01-4ead-b46d-7c02518fc98f",
   "metadata": {},
   "source": [
    "### Part 4 - Training the Final Model\n",
    "\n",
    "**Requirement:** To train a new model on the entire training set (`train set`) using the winning combination of the preprocessor and hyperparameters that we found in the Grid Search stage.\n",
    "\n",
    "**Execution:** The `GridSearchCV` tool performs this step automatically. After it finishes the cross-validation process and finds the best parameters, it automatically trains one final model on the **entire** training dataset. This model is saved in the `best_estimator_` attribute of the Grid Search object. Therefore, no additional code is needed, and we can proceed directly to using this trained model.\n",
    "\n",
    "Our final model, which is ready for prediction, is stored in the `final_model` variable."
   ]
  },
  {
   "cell_type": "code",
   "execution_count": null,
   "id": "c0fc460d",
   "metadata": {},
   "outputs": [],
   "source": []
  },
  {
   "cell_type": "code",
   "execution_count": null,
   "id": "064ad0a0",
   "metadata": {},
   "outputs": [],
   "source": []
  },
  {
   "cell_type": "markdown",
   "id": "259ab902",
   "metadata": {},
   "source": [
    "## Part 5 - Apply on test and show model performance estimation"
   ]
  },
  {
   "cell_type": "code",
   "execution_count": 49,
   "id": "3e40069c-3aca-4a0f-88ef-6bdfed9ed566",
   "metadata": {},
   "outputs": [
    {
     "name": "stdout",
     "output_type": "stream",
     "text": [
      "--- השוואה של 5 החיזויים הראשונים מול הערכים האמיתיים ---\n"
     ]
    },
    {
     "data": {
      "text/html": [
       "<div>\n",
       "<style scoped>\n",
       "    .dataframe tbody tr th:only-of-type {\n",
       "        vertical-align: middle;\n",
       "    }\n",
       "\n",
       "    .dataframe tbody tr th {\n",
       "        vertical-align: top;\n",
       "    }\n",
       "\n",
       "    .dataframe thead th {\n",
       "        text-align: right;\n",
       "    }\n",
       "</style>\n",
       "<table border=\"1\" class=\"dataframe\">\n",
       "  <thead>\n",
       "    <tr style=\"text-align: right;\">\n",
       "      <th></th>\n",
       "      <th>Actual</th>\n",
       "      <th>Predicted</th>\n",
       "    </tr>\n",
       "  </thead>\n",
       "  <tbody>\n",
       "    <tr>\n",
       "      <th>0</th>\n",
       "      <td>0</td>\n",
       "      <td>0</td>\n",
       "    </tr>\n",
       "    <tr>\n",
       "      <th>1</th>\n",
       "      <td>0</td>\n",
       "      <td>0</td>\n",
       "    </tr>\n",
       "    <tr>\n",
       "      <th>2</th>\n",
       "      <td>0</td>\n",
       "      <td>0</td>\n",
       "    </tr>\n",
       "    <tr>\n",
       "      <th>3</th>\n",
       "      <td>0</td>\n",
       "      <td>1</td>\n",
       "    </tr>\n",
       "    <tr>\n",
       "      <th>4</th>\n",
       "      <td>1</td>\n",
       "      <td>0</td>\n",
       "    </tr>\n",
       "  </tbody>\n",
       "</table>\n",
       "</div>"
      ],
      "text/plain": [
       "   Actual  Predicted\n",
       "0       0          0\n",
       "1       0          0\n",
       "2       0          0\n",
       "3       0          1\n",
       "4       1          0"
      ]
     },
     "metadata": {},
     "output_type": "display_data"
    },
    {
     "name": "stdout",
     "output_type": "stream",
     "text": [
      "\n",
      "--- ביצועי המודל הסופי על כל סט המבחן ---\n",
      "ציון F1-Score הסופי עבור מחלקת 'Survived' (1) על סט המבחן: 0.7368\n",
      "\n",
      "דוח סיווג מלא על סט המבחן:\n",
      "              precision    recall  f1-score   support\n",
      "\n",
      "    Died (0)       0.85      0.91      0.88       118\n",
      "Survived (1)       0.79      0.69      0.74        61\n",
      "\n",
      "    accuracy                           0.83       179\n",
      "   macro avg       0.82      0.80      0.81       179\n",
      "weighted avg       0.83      0.83      0.83       179\n",
      "\n"
     ]
    }
   ],
   "source": [
    "\n",
    "### חלק 5 - חיזוי ובדיקת איכות על סט המבחן\n",
    "\n",
    "# המשתנה 'best_estimator' כבר מכיל את המודל הסופי שאומן על כל נתוני האימון\n",
    "# אין צורך לאמן אותו מחדש.\n",
    "final_model = best_estimator\n",
    "\n",
    "# 1. שימוש במודל הסופי כדי לבצע חיזויים על סט המבחן\n",
    "y_pred = final_model.predict(X_test)\n",
    "\n",
    "# 2. הצגת 5 החיזויים הראשונים לצד התוצאות האמיתיות להשוואה\n",
    "# זה מאפשר לנו לראות \"דגימה\" של ביצועי המודל\n",
    "predictions_comparison = pd.DataFrame({'Actual': y_test.head(5), 'Predicted': y_pred[:5]})\n",
    "print(\"--- השוואה של 5 החיזויים הראשונים מול הערכים האמיתיים ---\")\n",
    "display(predictions_comparison)\n",
    "\n",
    "# 3. חישוב והצגת הציון הסופי על כל סט המבחן\n",
    "# המדד הנדרש הוא F1-Score עבור המחלקה '1' (Survived)\n",
    "final_f1_score = f1_score(y_test, y_pred, pos_label=1)\n",
    "\n",
    "print(\"\\n--- ביצועי המודל הסופי על כל סט המבחן ---\")\n",
    "print(f\"ציון F1-Score הסופי עבור מחלקת 'Survived' (1) על סט המבחן: {final_f1_score:.4f}\")\n",
    "\n",
    "# הצגת דוח סיווג מלא לקבלת תמונה רחבה יותר\n",
    "print(\"\\nדוח סיווג מלא על סט המבחן:\")\n",
    "print(classification_report(y_test, y_pred, target_names=['Died (0)', 'Survived (1)']))"
   ]
  },
  {
   "cell_type": "code",
   "execution_count": null,
   "id": "00d8aa96",
   "metadata": {},
   "outputs": [],
   "source": []
  }
 ],
 "metadata": {
  "kernelspec": {
   "display_name": "Python 3 (ipykernel)",
   "language": "python",
   "name": "python3"
  },
  "language_info": {
   "codemirror_mode": {
    "name": "ipython",
    "version": 3
   },
   "file_extension": ".py",
   "mimetype": "text/x-python",
   "name": "python",
   "nbconvert_exporter": "python",
   "pygments_lexer": "ipython3",
   "version": "3.12.7"
  },
  "widgets": {
   "application/vnd.jupyter.widget-state+json": {
    "state": {},
    "version_major": 2,
    "version_minor": 0
   }
  }
 },
 "nbformat": 4,
 "nbformat_minor": 5
}
